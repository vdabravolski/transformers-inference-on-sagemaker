{
 "cells": [
  {
   "cell_type": "code",
   "execution_count": null,
   "id": "creative-edinburgh",
   "metadata": {},
   "outputs": [],
   "source": [
    "!pip install -U sagemaker"
   ]
  },
  {
   "cell_type": "code",
   "execution_count": 1,
   "id": "cooperative-education",
   "metadata": {},
   "outputs": [],
   "source": [
    "import sagemaker\n",
    "import boto3\n",
    "\n",
    "sm_session = sagemaker.Session()\n",
    "role = sagemaker.get_execution_role()\n",
    "region = sm_session.boto_region_name\n",
    "account = sm_session.account_id()"
   ]
  },
  {
   "cell_type": "markdown",
   "id": "pressed-consumer",
   "metadata": {},
   "source": [
    "# Run Inference on Remote cluster"
   ]
  },
  {
   "cell_type": "code",
   "execution_count": 2,
   "id": "environmental-point",
   "metadata": {},
   "outputs": [],
   "source": [
    "import time\n",
    "from sagemaker.debugger import (ProfilerConfig, \n",
    "                                FrameworkProfile, \n",
    "                                DetailedProfilingConfig, \n",
    "                                DataloaderProfilingConfig, \n",
    "                                PythonProfilingConfig,\n",
    "                                PythonProfiler, cProfileTimer)\n",
    "\n",
    "profiler_config=ProfilerConfig(\n",
    "    system_monitor_interval_millis=500,\n",
    "    framework_profile_params=FrameworkProfile(\n",
    "        detailed_profiling_config=DetailedProfilingConfig(\n",
    "            start_step=5, \n",
    "            num_steps=1\n",
    "        ),\n",
    "        dataloader_profiling_config=DataloaderProfilingConfig(\n",
    "            start_step=7, \n",
    "            num_steps=1\n",
    "        ),\n",
    "        python_profiling_config=PythonProfilingConfig(\n",
    "            start_step=9, \n",
    "            num_steps=1, \n",
    "            python_profiler=PythonProfiler.CPROFILE, \n",
    "            cprofile_timer=cProfileTimer.TOTAL_TIME\n",
    "        )\n",
    "    )\n",
    ")"
   ]
  },
  {
   "cell_type": "code",
   "execution_count": 11,
   "id": "expired-upper",
   "metadata": {},
   "outputs": [],
   "source": [
    "from sagemaker.pytorch import PyTorch\n",
    "\n",
    "pytorch_estimator = PyTorch('launcher.py',\n",
    "                            source_dir='src',\n",
    "                            instance_type='ml.p3.16xlarge',\n",
    "                            role=role,\n",
    "                            session=sm_session,\n",
    "                            instance_count=2,\n",
    "                            framework_version='1.6.0',\n",
    "                            base_job_name=\"hf-distr-inf-amazon-review-dataset\",\n",
    "                            py_version='py3',\n",
    "                            hyperparameters = {\n",
    "                                'train-script': 'batch_inference.py',\n",
    "                                'inference-batch' : 256,\n",
    "                                'data-split': 'test',\n",
    "#                                 'dummy-dataset': True, # if you want to run inference on dummy dataset. Otherwise, we use \"amazon_polarity\"\n",
    "                                'wandb-project': \"transformers-batch-inference\",\n",
    "                                'wandb-api-key': \"<ADD YOUR WANDB API>\" #or comment WANDB params\n",
    "                            },\n",
    "                            profiler_config=profiler_config,\n",
    "                           )\n",
    "\n",
    "\n",
    "pytorch_estimator.fit(wait=False)\n"
   ]
  },
  {
   "cell_type": "markdown",
   "id": "choice-september",
   "metadata": {},
   "source": [
    "# Troubleshoot Locally"
   ]
  },
  {
   "cell_type": "code",
   "execution_count": null,
   "id": "going-journalism",
   "metadata": {},
   "outputs": [],
   "source": [
    "! pip install 'sagemaker[local]' --upgrade"
   ]
  },
  {
   "cell_type": "code",
   "execution_count": 4,
   "id": "arranged-engineering",
   "metadata": {},
   "outputs": [],
   "source": [
    "from sagemaker.local import LocalSession\n",
    "\n",
    "# Configure our local training session\n",
    "sagemaker_local_session = LocalSession()\n",
    "sagemaker_local_session.config = {'local': {'local_code': True}}"
   ]
  },
  {
   "cell_type": "code",
   "execution_count": null,
   "id": "right-lindsay",
   "metadata": {},
   "outputs": [],
   "source": [
    "from sagemaker.pytorch import PyTorch\n",
    "\n",
    "pytorch_estimator = PyTorch('launcher.py',\n",
    "                            source_dir='src',\n",
    "                            instance_type='local_gpu',\n",
    "                            role=role,\n",
    "                            instance_count=1,\n",
    "                            framework_version='1.6.0',\n",
    "                            session=sagemaker_local_session,\n",
    "                            py_version='py3',\n",
    "                            hyperparameters = {\n",
    "                                'train-script': 'batch_inference.py',\n",
    "                                'inference-batch' : 256,\n",
    "                                'data-split': 'test',\n",
    "                                'dummy-dataset': True\n",
    "                            }\n",
    "                           )\n",
    "\n",
    "\n",
    "pytorch_estimator.fit()\n"
   ]
  },
  {
   "cell_type": "code",
   "execution_count": null,
   "id": "unlikely-robert",
   "metadata": {},
   "outputs": [],
   "source": []
  }
 ],
 "metadata": {
  "kernelspec": {
   "display_name": "conda_pytorch_p36",
   "language": "python",
   "name": "conda_pytorch_p36"
  },
  "language_info": {
   "codemirror_mode": {
    "name": "ipython",
    "version": 3
   },
   "file_extension": ".py",
   "mimetype": "text/x-python",
   "name": "python",
   "nbconvert_exporter": "python",
   "pygments_lexer": "ipython3",
   "version": "3.6.10"
  }
 },
 "nbformat": 4,
 "nbformat_minor": 5
}
