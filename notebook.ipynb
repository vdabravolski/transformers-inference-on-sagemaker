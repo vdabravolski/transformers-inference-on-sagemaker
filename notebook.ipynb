{
 "cells": [
  {
   "cell_type": "code",
   "execution_count": null,
   "id": "covered-prague",
   "metadata": {},
   "outputs": [],
   "source": [
    "!pip install -U sagemaker"
   ]
  },
  {
   "cell_type": "code",
   "execution_count": 1,
   "id": "promising-cyprus",
   "metadata": {},
   "outputs": [],
   "source": [
    "import sagemaker\n",
    "import boto3\n",
    "\n",
    "sm_session = sagemaker.Session()\n",
    "role = sagemaker.get_execution_role()\n",
    "region = sm_session.boto_region_name\n",
    "account = sm_session.account_id()"
   ]
  },
  {
   "cell_type": "markdown",
   "id": "commercial-stuff",
   "metadata": {},
   "source": [
    "# Run Inference on Remote cluster"
   ]
  },
  {
   "cell_type": "code",
   "execution_count": null,
   "id": "elect-maple",
   "metadata": {},
   "outputs": [
    {
     "name": "stdout",
     "output_type": "stream",
     "text": [
      "2021-02-23 17:52:07 Starting - Starting the training job.."
     ]
    }
   ],
   "source": [
    "from sagemaker.pytorch import PyTorch\n",
    "\n",
    "pytorch_estimator = PyTorch('launcher.py',\n",
    "                            source_dir='src',\n",
    "                            instance_type='ml.p3.16xlarge',\n",
    "                            role=role,\n",
    "                            instance_count=2,\n",
    "                            framework_version='1.6.0',\n",
    "                            py_version='py3',\n",
    "                            hyperparameters = {\n",
    "                                'train-script': 'batch_inference.py',\n",
    "                                'inference-batch' : 16,\n",
    "                                'data-split': 'test'\n",
    "                            }\n",
    "                           )\n",
    "\n",
    "\n",
    "pytorch_estimator.fit()\n"
   ]
  },
  {
   "cell_type": "markdown",
   "id": "indirect-engagement",
   "metadata": {},
   "source": [
    "# Troubleshoot Locally"
   ]
  },
  {
   "cell_type": "code",
   "execution_count": null,
   "id": "deadly-excellence",
   "metadata": {},
   "outputs": [],
   "source": [
    "! pip install 'sagemaker[local]' --upgrade"
   ]
  },
  {
   "cell_type": "code",
   "execution_count": 2,
   "id": "medium-square",
   "metadata": {},
   "outputs": [],
   "source": [
    "from sagemaker.local import LocalSession\n",
    "\n",
    "# Configure our local training session\n",
    "sagemaker_local_session = LocalSession()\n",
    "sagemaker_local_session.config = {'local': {'local_code': True}}"
   ]
  },
  {
   "cell_type": "code",
   "execution_count": null,
   "id": "commercial-temperature",
   "metadata": {},
   "outputs": [],
   "source": [
    "from sagemaker.pytorch import PyTorch\n",
    "\n",
    "pytorch_estimator = PyTorch('launcher.py',\n",
    "                            source_dir='src',\n",
    "                            instance_type='local_gpu',\n",
    "                            role=role,\n",
    "                            instance_count=1,\n",
    "                            framework_version='1.6.0',\n",
    "                            session=sagemaker_local_session,\n",
    "                            py_version='py3',\n",
    "                            hyperparameters = {\n",
    "                                'train-script': 'batch_inference.py',\n",
    "                                'inference-batch' : 16,\n",
    "                                'data-split': 'test'\n",
    "                            }\n",
    "                           )\n",
    "\n",
    "\n",
    "pytorch_estimator.fit(wait=False)\n"
   ]
  },
  {
   "cell_type": "code",
   "execution_count": null,
   "id": "adjusted-orleans",
   "metadata": {},
   "outputs": [],
   "source": []
  }
 ],
 "metadata": {
  "kernelspec": {
   "display_name": "conda_pytorch_p36",
   "language": "python",
   "name": "conda_pytorch_p36"
  },
  "language_info": {
   "codemirror_mode": {
    "name": "ipython",
    "version": 3
   },
   "file_extension": ".py",
   "mimetype": "text/x-python",
   "name": "python",
   "nbconvert_exporter": "python",
   "pygments_lexer": "ipython3",
   "version": "3.6.10"
  }
 },
 "nbformat": 4,
 "nbformat_minor": 5
}
